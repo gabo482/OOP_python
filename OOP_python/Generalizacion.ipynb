{
  "nbformat": 4,
  "nbformat_minor": 0,
  "metadata": {
    "colab": {
      "provenance": [],
      "authorship_tag": "ABX9TyNN2xKUSVMbcu7fm+C5jGEU",
      "include_colab_link": true
    },
    "kernelspec": {
      "name": "python3",
      "display_name": "Python 3"
    },
    "language_info": {
      "name": "python"
    }
  },
  "cells": [
    {
      "cell_type": "markdown",
      "metadata": {
        "id": "view-in-github",
        "colab_type": "text"
      },
      "source": [
        "<a href=\"https://colab.research.google.com/github/gabo482/OOP_python/blob/main/Generalizacion.ipynb\" target=\"_parent\"><img src=\"https://colab.research.google.com/assets/colab-badge.svg\" alt=\"Open In Colab\"/></a>"
      ]
    },
    {
      "cell_type": "code",
      "execution_count": 1,
      "metadata": {
        "colab": {
          "base_uri": "https://localhost:8080/"
        },
        "id": "NTgXqnJ3eJMz",
        "outputId": "8886810f-f78c-4857-e793-a9e50dac3073"
      },
      "outputs": [
        {
          "output_type": "stream",
          "name": "stdout",
          "text": [
            "Buddy es un Canine de raza Labrador que hace Woof!\n",
            "Whiskers es un Feline de color Calico que hace Meow!\n"
          ]
        }
      ],
      "source": [
        "'''\n",
        " la generalización de clases en programación orientada a objetos se refiere a la\n",
        " creación de una clase base (superclase) que define características comunes y\n",
        " luego la creación de clases derivadas (subclases) que heredan de la clase base\n",
        " y pueden tener características adicionales o específicas.\n",
        "'''\n",
        "class Animal:\n",
        "    def __init__(self, name, species):\n",
        "        self.name = name\n",
        "        self.species = species\n",
        "\n",
        "    def make_sound(self):\n",
        "        pass\n",
        "\n",
        "class Dog(Animal):\n",
        "    def __init__(self, name, breed):\n",
        "        super().__init__(name, \"Canine\")\n",
        "        self.breed = breed\n",
        "\n",
        "    def make_sound(self):\n",
        "        return \"Woof!\"\n",
        "\n",
        "class Cat(Animal):\n",
        "    def __init__(self, name, color):\n",
        "        super().__init__(name, \"Feline\")\n",
        "        self.color = color\n",
        "\n",
        "    def make_sound(self):\n",
        "        return \"Meow!\"\n",
        "\n",
        "# Crear instancias de las subclases\n",
        "dog = Dog(\"Buddy\", \"Labrador\")\n",
        "cat = Cat(\"Whiskers\", \"Calico\")\n",
        "\n",
        "# Acceder a los atributos y métodos\n",
        "print(f\"{dog.name} es un {dog.species} de raza {dog.breed} que hace {dog.make_sound()}\")\n",
        "print(f\"{cat.name} es un {cat.species} de color {cat.color} que hace {cat.make_sound()}\")\n"
      ]
    }
  ]
}