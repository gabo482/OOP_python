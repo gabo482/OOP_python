{
  "nbformat": 4,
  "nbformat_minor": 0,
  "metadata": {
    "colab": {
      "provenance": [],
      "authorship_tag": "ABX9TyO4gUjs1IQMIy30UaFU0zcY",
      "include_colab_link": true
    },
    "kernelspec": {
      "name": "python3",
      "display_name": "Python 3"
    },
    "language_info": {
      "name": "python"
    }
  },
  "cells": [
    {
      "cell_type": "markdown",
      "metadata": {
        "id": "view-in-github",
        "colab_type": "text"
      },
      "source": [
        "<a href=\"https://colab.research.google.com/github/gabo482/OOP_python/blob/main/Cliente_Controller.ipynb\" target=\"_parent\"><img src=\"https://colab.research.google.com/assets/colab-badge.svg\" alt=\"Open In Colab\"/></a>"
      ]
    },
    {
      "cell_type": "code",
      "execution_count": null,
      "metadata": {
        "id": "f755k339xiSU"
      },
      "outputs": [],
      "source": [
        "class Cliente:\n",
        "\n",
        "  def __init__(self, nombre, correo):\n",
        "    self.nombre = nombre\n",
        "    self.correo = correo\n",
        "    self.listaClientes = []\n",
        "\n",
        "  def __eq__(self, other):\n",
        "        return self.nombre == other.nombre and self.correo == other.correo\n",
        "\n",
        "  def __str__(self):\n",
        "        return f\"{self.nombre} - {self.correo}\"\n",
        "\n"
      ]
    },
    {
      "cell_type": "code",
      "source": [
        "import re\n",
        "# Definición de la clase ClienteController\n",
        "class ClienteController:\n",
        "\n",
        "    def __init__(self):\n",
        "        self.clientes = []\n",
        "\n",
        "    def add(self, cliente):\n",
        "        if self._validar_existe(cliente):\n",
        "           if self._validar_correo(cliente.correo):\n",
        "              self.clientes.append(cliente)\n",
        "           else:\n",
        "              print(\"El correo es incorrecto\")\n",
        "        else:\n",
        "           print(\"El cliente ya existe en la lista\")\n",
        "\n",
        "    def imprimir_clientes(self):\n",
        "        for cliente in self.clientes:\n",
        "            print(cliente)\n",
        "\n",
        "    def _validar_existe(self,cliente):\n",
        "      if cliente in self.clientes:\n",
        "        return False\n",
        "      else:\n",
        "        return True\n",
        "\n",
        "    def _validar_correo(self, correo):\n",
        "        # Expresión regular para validar un correo electrónico\n",
        "        patron = r'^[a-zA-Z0-9_.+-]+@[a-zA-Z0-9-]+\\.[a-zA-Z0-9-.]+$'\n",
        "        if re.match(patron, correo):\n",
        "            return True\n",
        "        else:\n",
        "            return False"
      ],
      "metadata": {
        "id": "UPQojY486C4y"
      },
      "execution_count": null,
      "outputs": []
    },
    {
      "cell_type": "code",
      "source": [
        "\n",
        "controller = ClienteController()\n",
        "finalizar = True\n",
        "while finalizar:\n",
        "    objCliente = Cliente\n",
        "    nombre = input(\"Ingresa el nombre del cliente:\")\n",
        "    correo = input(\"Ingresa el correo del cliente:\")\n",
        "    objCliente = Cliente(nombre, correo)\n",
        "    controller.add (objCliente)\n",
        "    respuesta = input(\"¿Quieres seguir? (s/n): \")\n",
        "    if respuesta.lower() != 's':\n",
        "        finalizar = False\n",
        "\n",
        "controller.imprimir_clientes()\n",
        "\n"
      ],
      "metadata": {
        "colab": {
          "base_uri": "https://localhost:8080/"
        },
        "id": "BC0P7SERzChw",
        "outputId": "a39b80af-292a-44c9-be57-36d0bd3cf0ef"
      },
      "execution_count": null,
      "outputs": [
        {
          "output_type": "stream",
          "name": "stdout",
          "text": [
            "Ingresa el nombre del cliente:juan\n",
            "Ingresa el correo del cliente:juan\n",
            "El correo es incorrecto\n",
            "¿Quieres seguir? (s/n): s\n",
            "Ingresa el nombre del cliente:ana\n",
            "Ingresa el correo del cliente:ana@gmail.com\n",
            "¿Quieres seguir? (s/n): s\n",
            "Ingresa el nombre del cliente:ana\n",
            "Ingresa el correo del cliente:ana@gmail.com\n",
            "El cliente ya existe en la lista\n",
            "¿Quieres seguir? (s/n): n\n",
            "ana - ana@gmail.com\n"
          ]
        }
      ]
    }
  ]
}