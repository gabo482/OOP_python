{
  "nbformat": 4,
  "nbformat_minor": 0,
  "metadata": {
    "colab": {
      "provenance": [],
      "include_colab_link": true
    },
    "kernelspec": {
      "name": "python3",
      "display_name": "Python 3"
    },
    "language_info": {
      "name": "python"
    }
  },
  "cells": [
    {
      "cell_type": "markdown",
      "metadata": {
        "id": "view-in-github",
        "colab_type": "text"
      },
      "source": [
        "<a href=\"https://colab.research.google.com/github/gabo482/OOP_python/blob/main/Copia_de_Untitled7.ipynb\" target=\"_parent\"><img src=\"https://colab.research.google.com/assets/colab-badge.svg\" alt=\"Open In Colab\"/></a>"
      ]
    },
    {
      "cell_type": "code",
      "source": [
        "pip install telepot"
      ],
      "metadata": {
        "colab": {
          "base_uri": "https://localhost:8080/"
        },
        "id": "IMoQ6NeLlwXH",
        "outputId": "ae81c18a-8253-43b3-bfb2-fe3489796230"
      },
      "execution_count": 1,
      "outputs": [
        {
          "output_type": "stream",
          "name": "stdout",
          "text": [
            "Collecting telepot\n",
            "  Downloading telepot-12.7.tar.gz (73 kB)\n",
            "\u001b[2K     \u001b[90m━━━━━━━━━━━━━━━━━━━━━━━━━━━━━━━━━━━━━━━━\u001b[0m \u001b[32m73.1/73.1 kB\u001b[0m \u001b[31m860.4 kB/s\u001b[0m eta \u001b[36m0:00:00\u001b[0m\n",
            "\u001b[?25h  Preparing metadata (setup.py) ... \u001b[?25l\u001b[?25hdone\n",
            "Requirement already satisfied: urllib3>=1.9.1 in /usr/local/lib/python3.10/dist-packages (from telepot) (2.0.7)\n",
            "Requirement already satisfied: aiohttp>=3.0.0 in /usr/local/lib/python3.10/dist-packages (from telepot) (3.9.3)\n",
            "Requirement already satisfied: aiosignal>=1.1.2 in /usr/local/lib/python3.10/dist-packages (from aiohttp>=3.0.0->telepot) (1.3.1)\n",
            "Requirement already satisfied: attrs>=17.3.0 in /usr/local/lib/python3.10/dist-packages (from aiohttp>=3.0.0->telepot) (23.2.0)\n",
            "Requirement already satisfied: frozenlist>=1.1.1 in /usr/local/lib/python3.10/dist-packages (from aiohttp>=3.0.0->telepot) (1.4.1)\n",
            "Requirement already satisfied: multidict<7.0,>=4.5 in /usr/local/lib/python3.10/dist-packages (from aiohttp>=3.0.0->telepot) (6.0.5)\n",
            "Requirement already satisfied: yarl<2.0,>=1.0 in /usr/local/lib/python3.10/dist-packages (from aiohttp>=3.0.0->telepot) (1.9.4)\n",
            "Requirement already satisfied: async-timeout<5.0,>=4.0 in /usr/local/lib/python3.10/dist-packages (from aiohttp>=3.0.0->telepot) (4.0.3)\n",
            "Requirement already satisfied: idna>=2.0 in /usr/local/lib/python3.10/dist-packages (from yarl<2.0,>=1.0->aiohttp>=3.0.0->telepot) (3.6)\n",
            "Building wheels for collected packages: telepot\n",
            "  Building wheel for telepot (setup.py) ... \u001b[?25l\u001b[?25hdone\n",
            "  Created wheel for telepot: filename=telepot-12.7-py3-none-any.whl size=57940 sha256=3db4c609b9e57cd6d2de2ebd36e871f273e237704aaba1e6bada06b2e3cf5b18\n",
            "  Stored in directory: /root/.cache/pip/wheels/9f/9a/92/2e34a093e40a09338847e54dc9fcaab4ce01a59ba17c784c6c\n",
            "Successfully built telepot\n",
            "Installing collected packages: telepot\n",
            "Successfully installed telepot-12.7\n"
          ]
        }
      ]
    },
    {
      "cell_type": "code",
      "execution_count": 2,
      "metadata": {
        "colab": {
          "base_uri": "https://localhost:8080/"
        },
        "id": "UawF3th5eTsS",
        "outputId": "6bc27f12-fa8e-4d56-c7bf-fcae7edd5163"
      },
      "outputs": [
        {
          "output_type": "stream",
          "name": "stdout",
          "text": [
            "{'can_connect_to_business': False,\n",
            " 'can_join_groups': True,\n",
            " 'can_read_all_group_messages': False,\n",
            " 'first_name': 'myurcbot',\n",
            " 'id': 6398386138,\n",
            " 'is_bot': True,\n",
            " 'supports_inline_queries': False,\n",
            " 'username': 'myurcBot'}\n"
          ]
        }
      ],
      "source": [
        "import telepot\n",
        "import os\n",
        "import pprint\n",
        "\n",
        "bot = telepot.Bot('6398386138:AAFHGgfSKzFflaZF7DF_BIMRoWCQRKzb-As')\n",
        "pprint.pprint(bot.getMe())\n"
      ]
    },
    {
      "cell_type": "code",
      "source": [
        "import random\n",
        "import telepot\n",
        "from telepot.loop import MessageLoop\n",
        "\n",
        "def handle (msg):\n",
        "  chat_id = msg['çhat']['id']\n",
        "  command = msg['text']\n",
        "  if command =='image':\n",
        "    bot.sendPhoto(chat_id,'http://picsum.photos/200/300/?random')\n",
        "\n",
        "bot = telepot.Bot('6398386138:AAFHGgfSKzFflaZF7DF_BIMRoWCQRKzb-As')\n",
        "MessageLoop(bot, handle).run_forever()"
      ],
      "metadata": {
        "colab": {
          "base_uri": "https://localhost:8080/"
        },
        "id": "gV_v9Yptnbru",
        "outputId": "5f975370-2368-4b76-971f-a9829e9293be"
      },
      "execution_count": null,
      "outputs": [
        {
          "metadata": {
            "tags": null
          },
          "name": "stderr",
          "output_type": "stream",
          "text": [
            "Traceback (most recent call last):\n",
            "  File \"/usr/local/lib/python3.10/dist-packages/urllib3/connectionpool.py\", line 791, in urlopen\n",
            "    response = self._make_request(\n",
            "  File \"/usr/local/lib/python3.10/dist-packages/urllib3/connectionpool.py\", line 537, in _make_request\n",
            "    response = conn.getresponse()\n",
            "  File \"/usr/local/lib/python3.10/dist-packages/urllib3/connection.py\", line 461, in getresponse\n",
            "    httplib_response = super().getresponse()\n",
            "  File \"/usr/lib/python3.10/http/client.py\", line 1375, in getresponse\n",
            "    response.begin()\n",
            "  File \"/usr/lib/python3.10/http/client.py\", line 318, in begin\n",
            "    version, status, reason = self._read_status()\n",
            "  File \"/usr/lib/python3.10/http/client.py\", line 287, in _read_status\n",
            "    raise RemoteDisconnected(\"Remote end closed connection without\"\n",
            "http.client.RemoteDisconnected: Remote end closed connection without response\n",
            "\n",
            "During handling of the above exception, another exception occurred:\n",
            "\n",
            "Traceback (most recent call last):\n",
            "  File \"/usr/local/lib/python3.10/dist-packages/telepot/loop.py\", line 58, in run_forever\n",
            "    result = self._bot.getUpdates(offset=offset,\n",
            "  File \"/usr/local/lib/python3.10/dist-packages/telepot/__init__.py\", line 1000, in getUpdates\n",
            "    return self._api_request('getUpdates', _rectify(p))\n",
            "  File \"/usr/local/lib/python3.10/dist-packages/telepot/__init__.py\", line 491, in _api_request\n",
            "    return api.request((self._token, method, params, files), **kwargs)\n",
            "  File \"/usr/local/lib/python3.10/dist-packages/telepot/api.py\", line 154, in request\n",
            "    r = fn(*args, **kwargs)  # `fn` must be thread-safe\n",
            "  File \"/usr/local/lib/python3.10/dist-packages/urllib3/_request_methods.py\", line 217, in request_encode_body\n",
            "    return self.urlopen(method, url, **extra_kw)\n",
            "  File \"/usr/local/lib/python3.10/dist-packages/urllib3/poolmanager.py\", line 443, in urlopen\n",
            "    response = conn.urlopen(method, u.request_uri, **kw)\n",
            "  File \"/usr/local/lib/python3.10/dist-packages/urllib3/connectionpool.py\", line 845, in urlopen\n",
            "    retries = retries.increment(\n",
            "  File \"/usr/local/lib/python3.10/dist-packages/urllib3/util/retry.py\", line 470, in increment\n",
            "    raise reraise(type(error), error, _stacktrace)\n",
            "  File \"/usr/local/lib/python3.10/dist-packages/urllib3/util/util.py\", line 38, in reraise\n",
            "    raise value.with_traceback(tb)\n",
            "  File \"/usr/local/lib/python3.10/dist-packages/urllib3/connectionpool.py\", line 791, in urlopen\n",
            "    response = self._make_request(\n",
            "  File \"/usr/local/lib/python3.10/dist-packages/urllib3/connectionpool.py\", line 537, in _make_request\n",
            "    response = conn.getresponse()\n",
            "  File \"/usr/local/lib/python3.10/dist-packages/urllib3/connection.py\", line 461, in getresponse\n",
            "    httplib_response = super().getresponse()\n",
            "  File \"/usr/lib/python3.10/http/client.py\", line 1375, in getresponse\n",
            "    response.begin()\n",
            "  File \"/usr/lib/python3.10/http/client.py\", line 318, in begin\n",
            "    version, status, reason = self._read_status()\n",
            "  File \"/usr/lib/python3.10/http/client.py\", line 287, in _read_status\n",
            "    raise RemoteDisconnected(\"Remote end closed connection without\"\n",
            "urllib3.exceptions.ProtocolError: ('Connection aborted.', RemoteDisconnected('Remote end closed connection without response'))\n",
            "Traceback (most recent call last):\n",
            "  File \"/usr/local/lib/python3.10/dist-packages/telepot/loop.py\", line 37, in run_forever\n",
            "    self._handle(msg)\n",
            "  File \"<ipython-input-16-75faac74bfad>\", line 6, in handle\n",
            "    chat_id = msg['çhat']['id']\n",
            "KeyError: 'çhat'\n",
            "Traceback (most recent call last):\n",
            "  File \"/usr/local/lib/python3.10/dist-packages/telepot/loop.py\", line 37, in run_forever\n",
            "    self._handle(msg)\n",
            "  File \"<ipython-input-16-75faac74bfad>\", line 6, in handle\n",
            "    chat_id = msg['çhat']['id']\n",
            "KeyError: 'çhat'\n",
            "Traceback (most recent call last):\n",
            "  File \"/usr/local/lib/python3.10/dist-packages/telepot/loop.py\", line 37, in run_forever\n",
            "    self._handle(msg)\n",
            "  File \"<ipython-input-16-75faac74bfad>\", line 6, in handle\n",
            "    chat_id = msg['çhat']['id']\n",
            "KeyError: 'çhat'\n",
            "Traceback (most recent call last):\n",
            "  File \"/usr/local/lib/python3.10/dist-packages/telepot/loop.py\", line 37, in run_forever\n",
            "    self._handle(msg)\n",
            "  File \"<ipython-input-16-75faac74bfad>\", line 6, in handle\n",
            "    chat_id = msg['çhat']['id']\n",
            "KeyError: 'çhat'\n",
            "Traceback (most recent call last):\n",
            "  File \"/usr/local/lib/python3.10/dist-packages/telepot/loop.py\", line 37, in run_forever\n",
            "    self._handle(msg)\n",
            "  File \"<ipython-input-16-75faac74bfad>\", line 6, in handle\n",
            "    chat_id = msg['çhat']['id']\n",
            "KeyError: 'çhat'\n",
            "Traceback (most recent call last):\n",
            "  File \"/usr/local/lib/python3.10/dist-packages/telepot/loop.py\", line 37, in run_forever\n",
            "    self._handle(msg)\n",
            "  File \"<ipython-input-16-75faac74bfad>\", line 6, in handle\n",
            "    chat_id = msg['çhat']['id']\n",
            "KeyError: 'çhat'\n",
            "Traceback (most recent call last):\n",
            "  File \"/usr/local/lib/python3.10/dist-packages/telepot/loop.py\", line 37, in run_forever\n",
            "    self._handle(msg)\n",
            "  File \"<ipython-input-16-75faac74bfad>\", line 6, in handle\n",
            "    chat_id = msg['çhat']['id']\n",
            "KeyError: 'çhat'\n",
            "Traceback (most recent call last):\n",
            "  File \"/usr/local/lib/python3.10/dist-packages/telepot/loop.py\", line 37, in run_forever\n",
            "    self._handle(msg)\n",
            "  File \"<ipython-input-16-75faac74bfad>\", line 6, in handle\n",
            "    chat_id = msg['çhat']['id']\n",
            "KeyError: 'çhat'\n",
            "Traceback (most recent call last):\n",
            "  File \"/usr/local/lib/python3.10/dist-packages/telepot/loop.py\", line 37, in run_forever\n",
            "    self._handle(msg)\n",
            "  File \"<ipython-input-16-75faac74bfad>\", line 6, in handle\n",
            "    chat_id = msg['çhat']['id']\n",
            "KeyError: 'çhat'\n",
            "Traceback (most recent call last):\n",
            "  File \"/usr/local/lib/python3.10/dist-packages/telepot/loop.py\", line 37, in run_forever\n",
            "    self._handle(msg)\n",
            "  File \"<ipython-input-16-75faac74bfad>\", line 6, in handle\n",
            "    chat_id = msg['çhat']['id']\n",
            "KeyError: 'çhat'\n",
            "Traceback (most recent call last):\n",
            "  File \"/usr/local/lib/python3.10/dist-packages/telepot/loop.py\", line 37, in run_forever\n",
            "    self._handle(msg)\n",
            "  File \"<ipython-input-16-75faac74bfad>\", line 6, in handle\n",
            "    chat_id = msg['çhat']['id']\n",
            "KeyError: 'çhat'\n"
          ]
        }
      ]
    }
  ]
}