{
  "nbformat": 4,
  "nbformat_minor": 0,
  "metadata": {
    "colab": {
      "provenance": [],
      "authorship_tag": "ABX9TyPXbNPvJNDOYyxNyhzacUlT",
      "include_colab_link": true
    },
    "kernelspec": {
      "name": "python3",
      "display_name": "Python 3"
    },
    "language_info": {
      "name": "python"
    }
  },
  "cells": [
    {
      "cell_type": "markdown",
      "metadata": {
        "id": "view-in-github",
        "colab_type": "text"
      },
      "source": [
        "<a href=\"https://colab.research.google.com/github/gabo482/OOP_python/blob/main/AsociacionOOP.ipynb\" target=\"_parent\"><img src=\"https://colab.research.google.com/assets/colab-badge.svg\" alt=\"Open In Colab\"/></a>"
      ]
    },
    {
      "cell_type": "code",
      "execution_count": null,
      "metadata": {
        "colab": {
          "base_uri": "https://localhost:8080/"
        },
        "id": "UCn05upQc5XJ",
        "outputId": "9179d7d5-9619-4f63-9f65-babc3b69135c"
      },
      "outputs": [
        {
          "output_type": "stream",
          "name": "stdout",
          "text": [
            "Alice tiene un carro Toyota Corolla\n",
            "Bob tiene un carro Ford Focus\n"
          ]
        }
      ],
      "source": [
        "'''\n",
        "En este caso, vamos a tener dos clases: Person y Car. Cada instancia de Person puede tener asociada una instancia de Car.\n",
        "'''\n",
        "class Car:\n",
        "    def __init__(self, make, model):\n",
        "        self.make = make\n",
        "        self.model = model\n",
        "\n",
        "class Person:\n",
        "    def __init__(self, name, car=None):\n",
        "        self.name = name\n",
        "        self.car = car\n",
        "\n",
        "    def assign_car(self, car):\n",
        "        self.car = car\n",
        "\n",
        "# Crear instancias de Car\n",
        "car1 = Car(\"Toyota\", \"Corolla\")\n",
        "car2 = Car(\"Ford\", \"Focus\")\n",
        "\n",
        "# Crear instancias de Person\n",
        "person1 = Person(\"Alice\", car1)\n",
        "person2 = Person(\"Bob\")\n",
        "\n",
        "# Asignar un carro a Bob\n",
        "person2.assign_car(car2)\n",
        "\n",
        "# Acceder a la información\n",
        "print(f\"{person1.name} tiene un carro {person1.car.make} {person1.car.model}\")\n",
        "print(f\"{person2.name} tiene un carro {person2.car.make} {person2.car.model}\")\n"
      ]
    }
  ]
}