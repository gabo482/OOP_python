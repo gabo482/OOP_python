{
  "nbformat": 4,
  "nbformat_minor": 0,
  "metadata": {
    "colab": {
      "provenance": [],
      "authorship_tag": "ABX9TyOjbUd1LfvHn19zg9HBAojx",
      "include_colab_link": true
    },
    "kernelspec": {
      "name": "python3",
      "display_name": "Python 3"
    },
    "language_info": {
      "name": "python"
    }
  },
  "cells": [
    {
      "cell_type": "markdown",
      "metadata": {
        "id": "view-in-github",
        "colab_type": "text"
      },
      "source": [
        "<a href=\"https://colab.research.google.com/github/gabo482/OOP_python/blob/main/Practica_getter_and_setter.ipynb\" target=\"_parent\"><img src=\"https://colab.research.google.com/assets/colab-badge.svg\" alt=\"Open In Colab\"/></a>"
      ]
    },
    {
      "cell_type": "markdown",
      "source": [
        "**Ejemplo de uso de función input**\n"
      ],
      "metadata": {
        "id": "2KIsWAbAa58J"
      }
    },
    {
      "cell_type": "code",
      "execution_count": 3,
      "metadata": {
        "colab": {
          "base_uri": "https://localhost:8080/"
        },
        "id": "hL67ABZXWnW7",
        "outputId": "d568b46e-b5f6-45f1-a03e-04e295528dd5"
      },
      "outputs": [
        {
          "output_type": "stream",
          "name": "stdout",
          "text": [
            "Ingresa una lista de palabras separadas por espacios: correr saltar reir\n",
            "Las palabras ingresadas son: ['correr', 'saltar', 'reir']\n"
          ]
        }
      ],
      "source": [
        "palabras = input(\"Ingresa una lista de palabras separadas por espacios: \")\n",
        "lista_palabras = palabras.split()\n",
        "print(f\"Las palabras ingresadas son: {lista_palabras}\")\n"
      ]
    },
    {
      "cell_type": "markdown",
      "source": [
        "**Se declara clase cliente**\n"
      ],
      "metadata": {
        "id": "dXaIzsHrc7vP"
      }
    },
    {
      "cell_type": "code",
      "source": [
        "class Cliente:\n",
        "  def __init__(self):\n",
        "    pass\n",
        "\n",
        "  def __init__(self, nombre, correo):\n",
        "    self.nombre = nombre\n",
        "    self.correo = correo\n",
        "\n",
        "  def nombre(self, nombre):\n",
        "    self.nombre = nombre\n",
        "\n",
        "  def correo(self, correo):\n",
        "    self.correo = correo"
      ],
      "metadata": {
        "id": "ExjHimdpbIjb"
      },
      "execution_count": 17,
      "outputs": []
    },
    {
      "cell_type": "code",
      "source": [
        "#Declarar una lista de clientes vacia\n",
        "lista_clientes = []\n",
        "finalizar = True\n",
        "while finalizar:\n",
        "    nombre = input(\"Ingresa el nombre del cliente:\")\n",
        "    objCliente = Cliente\n",
        "    objCliente.nombre = nombre\n",
        "\n",
        "    print(objCliente.nombre)\n",
        "\n",
        "    correo = input(\"Ingresa el correo del cliente:\")\n",
        "    objCliente = Cliente\n",
        "    objCliente.correo = correo\n",
        "\n",
        "    print(objCliente.correo)\n",
        "#Se agrega objeto cliente a lista de clientes\n",
        "    lista_clientes.append(objCliente)\n",
        "#Preguntamos si queremos seguir capturando datos\n",
        "    respuesta = input(\"¿Quieres seguir? (s/n): \")\n",
        "    if respuesta.lower() != 's':\n",
        "        finalizar = False\n",
        "#Se itera lista de clientes y se imprimen datos\n",
        "for cliente in lista_clientes:\n",
        "    print(cliente.nombre,' ',cliente.correo)"
      ],
      "metadata": {
        "colab": {
          "base_uri": "https://localhost:8080/"
        },
        "id": "itKcADeGgfIT",
        "outputId": "05713479-0a53-4fb3-e8c7-3f71183b6a01"
      },
      "execution_count": 29,
      "outputs": [
        {
          "output_type": "stream",
          "name": "stdout",
          "text": [
            "Ingresa el nombre del cliente:luis\n",
            "luis\n",
            "Ingresa el correo del cliente:luis(a)gmail.com\n",
            "luis(a)gmail.com\n",
            "¿Quieres seguir? (s/n): n\n",
            "luis   luis(a)gmail.com\n"
          ]
        }
      ]
    }
  ]
}