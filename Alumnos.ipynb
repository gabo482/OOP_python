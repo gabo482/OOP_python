{
  "nbformat": 4,
  "nbformat_minor": 0,
  "metadata": {
    "colab": {
      "provenance": [],
      "authorship_tag": "ABX9TyMdE/orumlHW3vyfDKdngMM",
      "include_colab_link": true
    },
    "kernelspec": {
      "name": "python3",
      "display_name": "Python 3"
    },
    "language_info": {
      "name": "python"
    }
  },
  "cells": [
    {
      "cell_type": "markdown",
      "metadata": {
        "id": "view-in-github",
        "colab_type": "text"
      },
      "source": [
        "<a href=\"https://colab.research.google.com/github/gabo482/OOP_python/blob/main/Alumnos.ipynb\" target=\"_parent\"><img src=\"https://colab.research.google.com/assets/colab-badge.svg\" alt=\"Open In Colab\"/></a>"
      ]
    },
    {
      "cell_type": "code",
      "execution_count": 2,
      "metadata": {
        "id": "6hRYTOSDX3MH"
      },
      "outputs": [],
      "source": [
        "class Alumnos:\n",
        "  def __init__ (self, nombre, matricula):\n",
        "    self.nombre=nombre\n",
        "    self.matricula=matricula\n",
        "\n",
        "  def imprimir_datos (self):\n",
        "    print(self.nombre,' ',self.matricula)"
      ]
    },
    {
      "cell_type": "code",
      "source": [
        "\n",
        "\n",
        "alumno =Alumnos('Brandon','39218')\n",
        "alumno.imprimir_datos()"
      ],
      "metadata": {
        "colab": {
          "base_uri": "https://localhost:8080/"
        },
        "id": "r2JvPzi3bKEA",
        "outputId": "0143fcde-9911-40c7-c4c7-4530b377b131"
      },
      "execution_count": 6,
      "outputs": [
        {
          "output_type": "stream",
          "name": "stdout",
          "text": [
            "Brandon   39218\n"
          ]
        }
      ]
    }
  ]
}